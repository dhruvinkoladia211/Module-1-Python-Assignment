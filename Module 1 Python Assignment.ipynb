{
 "cells": [
  {
   "cell_type": "markdown",
   "id": "759fa817",
   "metadata": {},
   "source": [
    "###  MODULE - 1 : PYTHON ASSIGNMENT"
   ]
  },
  {
   "cell_type": "markdown",
   "id": "5fb6377c",
   "metadata": {},
   "source": [
    "#### 1. Write a python program to sum of the first n positive integers."
   ]
  },
  {
   "cell_type": "code",
   "execution_count": 1,
   "id": "a1ecf6f2",
   "metadata": {},
   "outputs": [
    {
     "name": "stdout",
     "output_type": "stream",
     "text": [
      "Enter the number to get sum of first n positive int.:100\n",
      "5050.0\n"
     ]
    }
   ],
   "source": [
    "number = int(input('Enter the number to get sum of first n positive int.:'))\n",
    "Sum_of_num = (number*(number+1)/2)\n",
    "print(Sum_of_num)"
   ]
  },
  {
   "cell_type": "markdown",
   "id": "85ccb13c",
   "metadata": {},
   "source": [
    "#### 2. Write a Python program to count occurrences of a substring in a string."
   ]
  },
  {
   "cell_type": "code",
   "execution_count": 2,
   "id": "c8fa7cfd",
   "metadata": {},
   "outputs": [
    {
     "name": "stdout",
     "output_type": "stream",
     "text": [
      "{'Write': 1, 'a': 3, 'Python': 1, 'program': 1, 'to': 1, 'count': 1, 'occurrences': 1, 'of': 1, 'substring': 1, 'in': 1, 'string.': 1}\n"
     ]
    }
   ],
   "source": [
    "sample=  \"Write a Python program to count occurrences of a substring in a string.\"\n",
    "\n",
    "def occurrences(str1):\n",
    "    str1=str1.split()\n",
    "    string_dict = {}\n",
    "    for substring in str1:\n",
    "        if substring in string_dict:\n",
    "            string_dict[substring]+=1\n",
    "        else:\n",
    "            string_dict[substring]=1\n",
    "    return string_dict\n",
    "\n",
    "print(occurrences(sample))    "
   ]
  },
  {
   "cell_type": "markdown",
   "id": "c7bb4a4f",
   "metadata": {},
   "source": [
    "#### 3. Write a Python program to count the occurrences of each word in a given sentence."
   ]
  },
  {
   "cell_type": "code",
   "execution_count": 3,
   "id": "866a4f42",
   "metadata": {},
   "outputs": [
    {
     "name": "stdout",
     "output_type": "stream",
     "text": [
      "{'Write': 1, 'a': 1, 'Python': 1, 'program': 1, 'to': 1, 'count': 1, 'the': 2, 'occurrences': 1, 'of': 1, 'each': 1, 'word': 1, 'in': 1, 'given': 1, 'sentence': 1}\n"
     ]
    }
   ],
   "source": [
    "sample = \" Write a Python program to count the occurrences of each word in the given sentence\"\n",
    "\n",
    "def occurrence_sentence(str1):\n",
    "    str1 = str1.split()\n",
    "    sentence_dict = {}\n",
    "    for words in str1:\n",
    "        if words not in sentence_dict:\n",
    "            sentence_dict[words] = 1\n",
    "        else:\n",
    "            sentence_dict[words] += 1\n",
    "    return sentence_dict\n",
    "\n",
    "print(occurrence_sentence(sample))        "
   ]
  },
  {
   "cell_type": "markdown",
   "id": "4bc98837",
   "metadata": {},
   "source": [
    "#### 4. Write a Python program to get a single string from two given strings, separated by a space and swap the first two characters of each string."
   ]
  },
  {
   "cell_type": "code",
   "execution_count": 4,
   "id": "3bbab8f3",
   "metadata": {},
   "outputs": [
    {
     "name": "stdout",
     "output_type": "stream",
     "text": [
      "pqcd abrs\n"
     ]
    }
   ],
   "source": [
    "def charswap(x,y):\n",
    "    new_x=y[:2]+x[2:]\n",
    "    new_y=x[:2]+y[2:]\n",
    "    return new_x+\" \"+new_y\n",
    "\n",
    "print(charswap('abcd','pqrs'))"
   ]
  },
  {
   "cell_type": "markdown",
   "id": "cae963bd",
   "metadata": {},
   "source": [
    "#### 5. Write a Python program to add 'ing' at the end of a given string (length should be at least 3).\n",
    "If the given string already ends with 'ing' then add 'ly' instead If the string length of the given string is less than 3, leave it unchanged "
   ]
  },
  {
   "cell_type": "code",
   "execution_count": 5,
   "id": "96661954",
   "metadata": {},
   "outputs": [
    {
     "name": "stdout",
     "output_type": "stream",
     "text": [
      "do\n",
      "converting\n",
      "sportingly\n"
     ]
    }
   ],
   "source": [
    "def ing_ly(str1):\n",
    "    length=len(str1)\n",
    "    if length>=3:\n",
    "        if str1[-3:]==\"ing\":\n",
    "            str1+=\"ly\"\n",
    "        else:\n",
    "            str1+=\"ing\"\n",
    "    return str1\n",
    "\n",
    "print(ing_ly(\"do\"))\n",
    "print(ing_ly(\"convert\"))\n",
    "print(ing_ly(\"sporting\"))"
   ]
  },
  {
   "cell_type": "markdown",
   "id": "82d07da7",
   "metadata": {},
   "source": [
    "#### 6. Write a Python program to find the first appearance of the substring 'not' and 'poor' from a given string, if 'not' follows the 'poor', replace the whole 'not'...'poor' substring with 'good'. Return the resulting string."
   ]
  },
  {
   "cell_type": "code",
   "execution_count": 6,
   "id": "3a7a8269",
   "metadata": {},
   "outputs": [
    {
     "data": {
      "text/plain": [
       "'you are not rich , you are cute'"
      ]
     },
     "execution_count": 6,
     "metadata": {},
     "output_type": "execute_result"
    }
   ],
   "source": [
    "def not_poor_good(str1):\n",
    "    stnot=str1.find(\"not\")\n",
    "    stpoor=str1.find(\"poor\")\n",
    "    if stpoor>stnot:\n",
    "        result=str1.replace(str1[stnot:stpoor+4],\"good\")\n",
    "        return result\n",
    "    else:\n",
    "        return str1\n",
    "\n",
    "str2=\"you are not rich , you are cute\"\n",
    "not_poor_good(str2)        "
   ]
  },
  {
   "cell_type": "markdown",
   "id": "6273f4de",
   "metadata": {},
   "source": [
    "#### 7. Write a Python program to find Greatest Common Divisor of two numbers.\n",
    "For example, the GCD of 20 and 28 is 4 and GCD of 98 and 56 is 14"
   ]
  },
  {
   "cell_type": "code",
   "execution_count": 7,
   "id": "bfd951fb",
   "metadata": {},
   "outputs": [
    {
     "data": {
      "text/plain": [
       "12"
      ]
     },
     "execution_count": 7,
     "metadata": {},
     "output_type": "execute_result"
    }
   ],
   "source": [
    "def gcd(x,y):\n",
    "    import math\n",
    "    result=math.gcd(x,y)\n",
    "    return result\n",
    "\n",
    "gcd(24,36)    "
   ]
  },
  {
   "cell_type": "markdown",
   "id": "6aa1061e",
   "metadata": {},
   "source": [
    "#### 8. Write a Python program to check whether a list contains a sublist."
   ]
  },
  {
   "cell_type": "code",
   "execution_count": 8,
   "id": "519ee523",
   "metadata": {},
   "outputs": [
    {
     "name": "stdout",
     "output_type": "stream",
     "text": [
      "YES, List contain sublist\n"
     ]
    }
   ],
   "source": [
    "def checksublist(lst):\n",
    "    for i in lst:\n",
    "        if isinstance(i,list):\n",
    "            print(\"YES, List contain sublist\")\n",
    "        \n",
    "list1=[1,2,3,4,[10,11,14,20]]\n",
    "checksublist(list1)"
   ]
  },
  {
   "cell_type": "markdown",
   "id": "eff060e8",
   "metadata": {},
   "source": [
    "#### 9. Write a Python program to find the second smallest number in a list."
   ]
  },
  {
   "cell_type": "code",
   "execution_count": 9,
   "id": "66b1f674",
   "metadata": {},
   "outputs": [
    {
     "name": "stdout",
     "output_type": "stream",
     "text": [
      "20\n"
     ]
    }
   ],
   "source": [
    "def secondsmallestn(lst):\n",
    "    lst.sort()\n",
    "    return lst[1]\n",
    "\n",
    "list1=[10,20,30,40,50]\n",
    "print(secondsmallestn(list1))"
   ]
  },
  {
   "cell_type": "markdown",
   "id": "d68b40de",
   "metadata": {},
   "source": [
    "#### 10. Write a Python program to get unique values from a list."
   ]
  },
  {
   "cell_type": "code",
   "execution_count": 10,
   "id": "e2abdb7a",
   "metadata": {},
   "outputs": [
    {
     "name": "stdout",
     "output_type": "stream",
     "text": [
      "[1, 2, 3, 4, 5, 6]\n"
     ]
    }
   ],
   "source": [
    "def unique(lst):\n",
    "    unique=[]\n",
    "    for x in lst:\n",
    "        if x not in unique:\n",
    "            unique.append(x)\n",
    "    return unique\n",
    "\n",
    "list1=[1,1,1,2,2,3,4,5,5,5,5,5,5,5,6]\n",
    "print(unique(list1))"
   ]
  },
  {
   "cell_type": "markdown",
   "id": "27f3be1c",
   "metadata": {},
   "source": [
    "#### 11. Write a Python program to unzip a list of tuples into individual lists."
   ]
  },
  {
   "cell_type": "code",
   "execution_count": 11,
   "id": "b8c2f162",
   "metadata": {},
   "outputs": [
    {
     "name": "stdout",
     "output_type": "stream",
     "text": [
      "[1, 2]\n",
      "[3, 4]\n",
      "[5, 6]\n"
     ]
    }
   ],
   "source": [
    "list1=[(1,2),(3,4),(5,6)]\n",
    "\n",
    "def unziplist(lst):\n",
    "    for i in lst:\n",
    "        a=list(i)\n",
    "        print(a)\n",
    "\n",
    "unziplist(list1)    "
   ]
  },
  {
   "cell_type": "markdown",
   "id": "509ac693",
   "metadata": {},
   "source": [
    "#### 12. Write a Python program to convert a list of tuples into a dictionary"
   ]
  },
  {
   "cell_type": "code",
   "execution_count": 12,
   "id": "8dd92622",
   "metadata": {},
   "outputs": [
    {
     "name": "stdout",
     "output_type": "stream",
     "text": [
      "{'yash': 30, 'meet': 45}\n"
     ]
    }
   ],
   "source": [
    "def conversion(tup):\n",
    "    tup=dict(tup)\n",
    "    return tup\n",
    "\n",
    "list1=[('yash',30),('meet',45)]\n",
    "print(conversion(list1))"
   ]
  },
  {
   "cell_type": "markdown",
   "id": "ffc1b667",
   "metadata": {},
   "source": [
    "#### 13. Write a Python program to sort a dictionary (ascending /descending) by value."
   ]
  },
  {
   "cell_type": "code",
   "execution_count": 13,
   "id": "ff48c7bd",
   "metadata": {},
   "outputs": [
    {
     "name": "stdout",
     "output_type": "stream",
     "text": [
      "{'F': 35, 'G': 55, 'B': 57, 'E': 74, 'D': 85, 'C': 90, 'A': 100}\n",
      "{'A': 100, 'C': 90, 'D': 85, 'E': 74, 'B': 57, 'G': 55, 'F': 35}\n"
     ]
    }
   ],
   "source": [
    "def dictsortasce(dict1):\n",
    "    dict1=list(dict1.items())\n",
    "    dict1=[i[::-1] for i in dict1]\n",
    "    dict1.sort()\n",
    "    dict1=[i[::-1] for i in dict1]\n",
    "    return dict(dict1)\n",
    "\n",
    "def dictsortdesce(dict1):\n",
    "    dict1=list(dict1.items())\n",
    "    dict1=[i[::-1] for i in dict1]\n",
    "    dict1.sort(reverse=True)\n",
    "    dict1=[i[::-1] for i in dict1]\n",
    "    return dict(dict1)\n",
    "\n",
    "sample={'A':100,'B':57,'C':90,'D':85,'E':74,'F':35,'G':55}\n",
    "\n",
    "print(dictsortasce(sample))\n",
    "print(dictsortdesce(sample))"
   ]
  },
  {
   "cell_type": "markdown",
   "id": "1b1467b9",
   "metadata": {},
   "source": [
    "#### 14. Write a Python program to find the highest 3 values in a dictionary."
   ]
  },
  {
   "cell_type": "code",
   "execution_count": 14,
   "id": "44006d19",
   "metadata": {
    "scrolled": true
   },
   "outputs": [
    {
     "name": "stdout",
     "output_type": "stream",
     "text": [
      "A:100\n",
      "C:90\n",
      "D:85\n"
     ]
    }
   ],
   "source": [
    "def highest3values(dict1):\n",
    "    val=list(dict1.values())\n",
    "    val.sort(reverse=True)\n",
    "    val=val[:3]\n",
    "    for i in val:\n",
    "        for j in dict1.keys():\n",
    "            if (dict1[j]==i):\n",
    "                print(str(j)+\":\"+str(dict1[j]))\n",
    "                \n",
    "sample={'A':100,'B':57,'C':90,'D':85,'E':74,'F':35,'G':55}\n",
    "highest3values(sample)    "
   ]
  },
  {
   "cell_type": "markdown",
   "id": "d8f5f4fa",
   "metadata": {},
   "source": [
    "#### 15. Given a number n, write a python program to make and print the list of Fibonacci series up to n. \n",
    "* Input : n=7 \n",
    "* Hint : first 7 numbers in the series \n",
    "* Expected output : First few Fibonacci numbers are 0, 1, 1, 2, 3, 5, 8, 13"
   ]
  },
  {
   "cell_type": "code",
   "execution_count": 15,
   "id": "c9179a2c",
   "metadata": {},
   "outputs": [
    {
     "name": "stdout",
     "output_type": "stream",
     "text": [
      "Fibonacci series: 0 1 1 2 3 5 8 13 21 34 55 89 "
     ]
    }
   ],
   "source": [
    "def fibonacci(num):\n",
    "    n1=0;n2=1\n",
    "    if num==1:\n",
    "        return n2\n",
    "    elif num==0:\n",
    "        return n1\n",
    "    print('Fibonacci series:',n1,n2,end=\" \")\n",
    "    for i in range(num):\n",
    "        n = n1 + n2\n",
    "        n1 = n2\n",
    "        n2 = n\n",
    "        print(n, end=\" \")\n",
    "            \n",
    "fibonacci(10)"
   ]
  },
  {
   "cell_type": "markdown",
   "id": "d39fa09b",
   "metadata": {},
   "source": [
    "#### 16. Counting the frequencies in a list using a dictionary in Python.\n",
    "* Input : [1, 1, 1, 5, 5, 3, 1, 3, 3, 1,4, 4, 4, 2, 2, 2, 2]\n",
    "* Expected output : 1 : 5 , 2 : 4 , 3 : 3 , 4 : 3 , 5 : 2"
   ]
  },
  {
   "cell_type": "code",
   "execution_count": 16,
   "id": "1a3b8a92",
   "metadata": {},
   "outputs": [
    {
     "name": "stdout",
     "output_type": "stream",
     "text": [
      "{1: 5, 5: 2, 3: 3, 4: 3, 2: 4}\n"
     ]
    }
   ],
   "source": [
    "def freqencies(lst):\n",
    "    dict1={}\n",
    "    for i in lst:\n",
    "        if i not in dict1:\n",
    "            dict1[i]=1\n",
    "        else:\n",
    "            dict1[i]+=1\n",
    "     \n",
    "    return dict1\n",
    "\n",
    "list1=[1, 1, 1, 5, 5, 3, 1, 3, 3, 1, 4, 4, 4, 2, 2, 2, 2]\n",
    "print(freqencies(list1))"
   ]
  },
  {
   "cell_type": "markdown",
   "id": "74c7385f",
   "metadata": {},
   "source": [
    "#### 17. Write a python program using function to find the sum of odd series and even series.\n",
    "* Odd series: 1/ 1! + 9/ 3! + 25/ 5!+……(n*n)/n!\n",
    "* Even series: 2/ 2! + 16/ 4! + 36/ 6!+……(n*n)/n!\n"
   ]
  },
  {
   "cell_type": "code",
   "execution_count": 17,
   "id": "af232a69",
   "metadata": {},
   "outputs": [
    {
     "name": "stdout",
     "output_type": "stream",
     "text": [
      "2.7083333333333335\n",
      "2.6666666666666665\n"
     ]
    }
   ],
   "source": [
    "def nfactorial(n):\n",
    "    factorial =1\n",
    "    if n < 0:\n",
    "        print(\"Sorry, factorial does not exist for negative numbers\")\n",
    "    elif n==0:\n",
    "        print(\"The factorial of 0 is 1\")\n",
    "    else:\n",
    "        for i in range(1,n+1):\n",
    "            factorial = factorial*i\n",
    "        return factorial\n",
    "\n",
    "def sumoddseries(n):\n",
    "    result = 0\n",
    "    for val in range(1, n, 2):\n",
    "        result += (val*val)/nfactorial(val)\n",
    "    return result\n",
    "print(sumoddseries(6))\n",
    "\n",
    "def sumevenseries(n):\n",
    "    result = 0\n",
    "    for i in range(2, n, 2):\n",
    "        result += (i*i)/nfactorial(i)\n",
    "    return result\n",
    "print(sumevenseries(6))"
   ]
  },
  {
   "cell_type": "markdown",
   "id": "021922e0",
   "metadata": {},
   "source": [
    "#### 18. Write a Python Program to Find Factorial of Number Using Recursion."
   ]
  },
  {
   "cell_type": "code",
   "execution_count": 18,
   "id": "9c2a49e5",
   "metadata": {},
   "outputs": [
    {
     "data": {
      "text/plain": [
       "120"
      ]
     },
     "execution_count": 18,
     "metadata": {},
     "output_type": "execute_result"
    }
   ],
   "source": [
    "def rec_factorial(num):\n",
    "    if num==0:\n",
    "        return 1\n",
    "    else:\n",
    "        return num*rec_factorial(num-1)\n",
    "    \n",
    "rec_factorial(5)    "
   ]
  },
  {
   "cell_type": "markdown",
   "id": "0b169c30",
   "metadata": {},
   "source": [
    "#### 19. Write a Python function that takes a list and returns a new list with unique elements of the first list."
   ]
  },
  {
   "cell_type": "code",
   "execution_count": 19,
   "id": "621ef91e",
   "metadata": {},
   "outputs": [
    {
     "name": "stdout",
     "output_type": "stream",
     "text": [
      "[1, 2, 3, 4, 5, 6]\n"
     ]
    }
   ],
   "source": [
    "def unique(lst):\n",
    "    unique=[]\n",
    "    for x in lst:\n",
    "        if x not in unique:\n",
    "            unique.append(x)\n",
    "    return unique\n",
    "\n",
    "list1=[1,1,1,2,2,3,4,5,5,5,5,5,5,5,6]\n",
    "print(unique(list1))"
   ]
  },
  {
   "cell_type": "markdown",
   "id": "08fb80bc",
   "metadata": {},
   "source": [
    "### 20. Mini project : \n",
    "#### Problem Statement : Password Generator\n",
    "* Make a program to generate a strong password using the input given by the user. To generate a password,randomly take some words from the user input and then include numbers, special characters and capital letters to generate the password. Also, keep a check that password length is more than 8 characters.\n",
    "* Note: Include Exception handling wherever required. Also, make a ‘User’ class and store the details like user id, name and password of each user as a tuple. "
   ]
  },
  {
   "cell_type": "code",
   "execution_count": 1,
   "id": "1d14dcde",
   "metadata": {},
   "outputs": [],
   "source": [
    "class user:\n",
    "    def __init__(self,userid,name,password):\n",
    "        self.userid = userid\n",
    "        self.name = name\n",
    "        self.password=user.strongpassword()\n",
    "        \n",
    "    @classmethod    \n",
    "    def strongpassword(password):\n",
    "        import string\n",
    "        DIGITS = string.digits\n",
    "        SYMBOLS =string.punctuation\n",
    "        word_u=string.ascii_uppercase\n",
    "        word_l=string.ascii_lowercase\n",
    "        combine=DIGITS+SYMBOLS+ word_u+ word_l\n",
    "        import random\n",
    "        randigit = random.choice(DIGITS)\n",
    "        ranSY = random.choice(SYMBOLS)\n",
    "        ran_u = random.choice(word_u)\n",
    "        ran_l = random.choice(word_l)\n",
    "        strpass = randigit+ranSY+ran_u+ran_l\n",
    "        for x in range(0,8):\n",
    "            strpass = strpass + random.choice(combine)\n",
    "        if len(strpass)==8:\n",
    "            print(strpass)\n",
    "        else:\n",
    "            strpass=strpass[0:8]\n",
    "        print(strpass)\n"
   ]
  },
  {
   "cell_type": "code",
   "execution_count": 2,
   "id": "5ebaa8b7",
   "metadata": {},
   "outputs": [
    {
     "name": "stdout",
     "output_type": "stream",
     "text": [
      "7&Btm}21\n"
     ]
    }
   ],
   "source": [
    "u1 = user(1,\"jhon\",\"Instagram\")"
   ]
  },
  {
   "cell_type": "code",
   "execution_count": null,
   "id": "42a1bae3",
   "metadata": {},
   "outputs": [],
   "source": []
  }
 ],
 "metadata": {
  "kernelspec": {
   "display_name": "Python 3 (ipykernel)",
   "language": "python",
   "name": "python3"
  },
  "language_info": {
   "codemirror_mode": {
    "name": "ipython",
    "version": 3
   },
   "file_extension": ".py",
   "mimetype": "text/x-python",
   "name": "python",
   "nbconvert_exporter": "python",
   "pygments_lexer": "ipython3",
   "version": "3.9.13"
  }
 },
 "nbformat": 4,
 "nbformat_minor": 5
}
